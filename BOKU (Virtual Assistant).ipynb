{
 "cells": [
  {
   "cell_type": "code",
   "execution_count": 1,
   "metadata": {},
   "outputs": [],
   "source": [
    "import pyttsx3\n",
    "import datetime\n",
    "import speech_recognition as sr\n",
    "import wikipedia\n",
    "import webbrowser\n",
    "import os\n",
    "import random\n",
    "import smtplib"
   ]
  },
  {
   "cell_type": "code",
   "execution_count": 2,
   "metadata": {},
   "outputs": [],
   "source": [
    "email_list={}\n",
    "email_list['gitesh']=  '-------@gmail.com'\n",
    "email_list['kiran']=   '-------@gmail.com'\n",
    "email_list['arvind']=  '-------@gmail.com'\n",
    "email_list['rahul']=   '-------@gmail.com'\n",
    "email_list['swapnil']= '-------@gmail.com'\n",
    "email_list['karan']=   '-------@gmail.com'"
   ]
  },
  {
   "cell_type": "code",
   "execution_count": 3,
   "metadata": {},
   "outputs": [],
   "source": [
    "engine = pyttsx3.init('sapi5')"
   ]
  },
  {
   "cell_type": "code",
   "execution_count": 4,
   "metadata": {},
   "outputs": [],
   "source": [
    "voices=engine.getProperty('voices')"
   ]
  },
  {
   "cell_type": "code",
   "execution_count": 5,
   "metadata": {},
   "outputs": [],
   "source": [
    "engine.setProperty('voice',voices[0].id)"
   ]
  },
  {
   "cell_type": "code",
   "execution_count": 6,
   "metadata": {},
   "outputs": [],
   "source": [
    "def speak(audio):\n",
    "    engine.say(audio)\n",
    "    engine.runAndWait()"
   ]
  },
  {
   "cell_type": "code",
   "execution_count": 7,
   "metadata": {},
   "outputs": [],
   "source": [
    "def wishme():\n",
    "    hour=int(datetime.datetime.now().hour)\n",
    "    if hour>=0 and hour<12:\n",
    "        speak('Good morning!!')\n",
    "    elif hour>12 and hour<18:\n",
    "        speak('Good Afternoon!!')\n",
    "    else:\n",
    "        speak('Good Evening !!')\n",
    "    speak('I am Boku sir, How may I help You??')"
   ]
  },
  {
   "cell_type": "code",
   "execution_count": null,
   "metadata": {},
   "outputs": [],
   "source": [
    "def takecommand():\n",
    "    #It takes microphone input from the user and returns string output\n",
    "\n",
    "    r = sr.Recognizer()\n",
    "    mic=sr.Microphone(device_index=2) \n",
    "    with mic as source:\n",
    "        print(\"Listening...\")\n",
    "        r.pause_threshold = 1\n",
    "        audio = r.listen(source)\n",
    "    try:\n",
    "        print(\"Recognizing...\")    \n",
    "        query = r.recognize_google(audio, language='en-in') #Using google for voice recognition.\n",
    "        print(f\"User said: {query}\\n\")  #User query will be printed.\n",
    "\n",
    "    except Exception as e:\n",
    "        # print(e)    \n",
    "        print(\"Say that again please...\")   #Say that again will be printed in case of improper voice \n",
    "        return \"None\" #None string will be returned\n",
    "    return query\n",
    "\n",
    " \n",
    "    "
   ]
  },
  {
   "cell_type": "code",
   "execution_count": 9,
   "metadata": {},
   "outputs": [],
   "source": [
    "def sendEmail(to,content):\n",
    "    server=smtplib.SMTP('smtp.google.com',587)\n",
    "    server.ehlo()\n",
    "    server.starttls()\n",
    "    server.login('your---@gmail.com','Password')\n",
    "    server.sendmail('your---@gmail.com',to,content)\n",
    "    server.close()"
   ]
  },
  {
   "cell_type": "code",
   "execution_count": null,
   "metadata": {},
   "outputs": [
    {
     "name": "stdout",
     "output_type": "stream",
     "text": [
      "Listening...\n"
     ]
    }
   ],
   "source": [
    "if __name__=='__main__':\n",
    "    wishme()\n",
    "    #while True:\n",
    "    if 1:\n",
    "        query=takecommand().lower()\n",
    "        if 'wikipedia' in query:\n",
    "            speak('Searching Wikipedia------')\n",
    "            query=query.replace('wikipedia',\"\")\n",
    "            results=wikipedia.summary(query, sentences=2)\n",
    "            speak('According to Wikipedia')\n",
    "            print(results)\n",
    "            speak(results)\n",
    "            \n",
    "        elif 'open youtube' in query:\n",
    "            try:\n",
    "                speak('What should I search?')\n",
    "                result=takecommand()\n",
    "                webbrowser.open('https://www.youtube.com/results?search_query='+result)\n",
    "                speak('Your result in youtube is loading...')\n",
    "            except exception as e:\n",
    "                speak('Unable to reach Youtube at this moment..')\n",
    "        \n",
    "        elif 'open google' in query:\n",
    "            webbrowser.open('https://google.com',new=1)\n",
    "            \n",
    "        elif 'open udemy' in query:\n",
    "            if 'data science' in query:\n",
    "                webbrowser.open('https://www.udemy.com',new=1)\n",
    "            elif 'machine learing' in query:\n",
    "                webbrowser.open('https://www.udemy.com/machinelearning',new=1)\n",
    "            \n",
    "        elif 'play song' in query:\n",
    "            webbrowser.open('https://www.youtube.com/watch?v=HqUeSjsYLNU',new=1)\n",
    "            \n",
    "        elif 'play music' in query:\n",
    "            music_dir='I:\\\\songs'\n",
    "            song=os.listdir(music_dir)\n",
    "            rand=random.randrange(len(song)-1)\n",
    "            os.startfile(os.path.join(music_dir,song[rand]))\n",
    "            \n",
    "        elif 'the time' in query:\n",
    "            strtime=datetime.datetime.now().strftime('%H:%M:%S')\n",
    "            speak(f'Sir,The time right now is {strtime}')\n",
    "                                                     \n",
    "        elif 'open whatsapp' in query:\n",
    "            webbrowser.open('https://web.whatsapp.com/',new=1)\n",
    "            \n",
    "        elif 'open visual studio code' in query:\n",
    "            os.startfile(\"C:\\\\Users\\\\user\\\\AppData\\\\Local\\\\Programs\\\\Microsoft VS Code\\\\Code.exe\")\n",
    "        \n",
    "        elif 'open tableau' in query:\n",
    "            os.startfile('\"C:\\\\Program Files\\\\Tableau\\\\Tableau Public 2020.2\\\\bin\\\\tabpublic.exe\"')\n",
    "            \n",
    "        elif 'send email to' in query:\n",
    "            if 'gitesh' in query:\n",
    "                try:\n",
    "                    speak('What should I say?')\n",
    "                    content=takecommand()\n",
    "                    to=email_list['gitesh']\n",
    "                    sendEmail(to,content)\n",
    "                    speak('Email has been send!!')\n",
    "                except Exception as e:\n",
    "                    speak('Sorry Karan Sir, I am unable to send the email at this moment..')\n",
    "                    \n",
    "            elif 'kiran' in query:\n",
    "                try:\n",
    "                    speak('What should I say?')\n",
    "                    content=takecommand()\n",
    "                    to=email_list['kiran']\n",
    "                    sendEmail(to,content)\n",
    "                    speak('Email has been send!!')\n",
    "                except Exception as e:\n",
    "                    speak('Sorry Karan Sir, I am unable to send the email at this moment..')\n",
    "                    \n",
    "            elif 'arvind' in query:\n",
    "                try:\n",
    "                    speak('What should I say?')\n",
    "                    content=takecommand()\n",
    "                    to=email_list['arvind']\n",
    "                    sendEmail(to,content)\n",
    "                    speak('Email has been send!!')\n",
    "                except Exception as e:\n",
    "                    speak('Sorry Karan Sir, I am unable to send the email at this moment..')\n",
    "                    \n",
    "            elif 'rahul' in query:\n",
    "                try:\n",
    "                    speak('What should I say?')\n",
    "                    content=takecommand()\n",
    "                    to=email_list['rahul']\n",
    "                    sendEmail(to,content)\n",
    "                    speak('Email has been send!!')\n",
    "                except Exception as e:\n",
    "                    speak('Sorry Karan Sir, I am unable to send the email at this moment..')\n",
    "                    \n",
    "            elif 'swapnil' in query:\n",
    "                try:\n",
    "                    speak('What should I say?')\n",
    "                    content=takecommand()\n",
    "                    to=email_list['swapnil']\n",
    "                    sendEmail(to,content)\n",
    "                    speak('Email has been send!!')\n",
    "                except Exception as e:\n",
    "                    speak('Sorry Karan Sir, I am unable to send the email at this moment..')\n",
    "            \n",
    "            elif 'karan' in query:\n",
    "                try:\n",
    "                    speak('What should I say?')\n",
    "                    content=takecommand()\n",
    "                    to=email_list['karan']\n",
    "                    sendEmail(to,content)\n",
    "                    speak('Email has been send!!')\n",
    "                except Exception as e:\n",
    "                    speak('Sorry Karan Sir, I am unable to send the email at this moment..')\n",
    "        \n",
    "            \n",
    "        \n",
    "            \n",
    "            \n",
    "    "
   ]
  },
  {
   "cell_type": "code",
   "execution_count": null,
   "metadata": {},
   "outputs": [],
   "source": []
  },
  {
   "cell_type": "code",
   "execution_count": null,
   "metadata": {},
   "outputs": [],
   "source": []
  }
 ],
 "metadata": {
  "kernelspec": {
   "display_name": "Python 3",
   "language": "python",
   "name": "python3"
  },
  "language_info": {
   "codemirror_mode": {
    "name": "ipython",
    "version": 3
   },
   "file_extension": ".py",
   "mimetype": "text/x-python",
   "name": "python",
   "nbconvert_exporter": "python",
   "pygments_lexer": "ipython3",
   "version": "3.7.6"
  }
 },
 "nbformat": 4,
 "nbformat_minor": 4
}
